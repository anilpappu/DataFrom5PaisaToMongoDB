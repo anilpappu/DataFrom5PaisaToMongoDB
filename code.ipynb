{
 "cells": [
  {
   "cell_type": "code",
   "execution_count": 1,
   "id": "7bd38139",
   "metadata": {},
   "outputs": [],
   "source": [
    "from py5paisa import FivePaisaClient\n",
    "cred={\n",
    "    \"APP_NAME\":\"5P59695694\",\n",
    "    \"APP_SOURCE\":\"5367\",\n",
    "    \"USER_ID\":\"ulGCwQinUw6\",\n",
    "    \"PASSWORD\":\"ggniVTHwhMA\",\n",
    "    \"USER_KEY\":\"M0Y3qsUJXwqOoJGxA5nGw5OfyKxGoxg8\",\n",
    "    \"ENCRYPTION_KEY\":\"3iRMtiLFk7LrgToWCUwyMMETjte3LAoM\"\n",
    "    }"
   ]
  },
  {
   "cell_type": "code",
   "execution_count": 2,
   "id": "8dcff344",
   "metadata": {},
   "outputs": [
    {
     "name": "stdout",
     "output_type": "stream",
     "text": [
      "Overwriting keys.conf\n"
     ]
    }
   ],
   "source": [
    "%%writefile keys.conf\n",
    "[KEYS]\n",
    "APP_NAME=5P59695694\n",
    "APP_SOURCE=5367\n",
    "USER_ID=ulGCwQinUw6\n",
    "PASSWORD=ggniVTHwhMA\n",
    "USER_KEY=M0Y3qsUJXwqOoJGxA5nGw5OfyKxGoxg8\n",
    "ENCRYPTION_KEY=3iRMtiLFk7LrgToWCUwyMMETjte3LAoM\n"
   ]
  },
  {
   "cell_type": "code",
   "execution_count": null,
   "id": "45ff0938",
   "metadata": {},
   "outputs": [],
   "source": []
  },
  {
   "cell_type": "code",
   "execution_count": 3,
   "id": "4461aeb4",
   "metadata": {
    "scrolled": true
   },
   "outputs": [
    {
     "name": "stdout",
     "output_type": "stream",
     "text": [
      " 11:03:51 | Logged in!!\n"
     ]
    }
   ],
   "source": [
    "\n",
    "client = FivePaisaClient(email=\"jawaadfazal@gmail.com\", passwd=\"Siddiq@123\", dob=\"19910309\",cred=cred)\n",
    "client.login()"
   ]
  },
  {
   "cell_type": "code",
   "execution_count": null,
   "id": "fc03493d",
   "metadata": {},
   "outputs": [],
   "source": []
  },
  {
   "cell_type": "code",
   "execution_count": 4,
   "id": "713c5569",
   "metadata": {},
   "outputs": [],
   "source": [
    "import pandas as pd\n",
    "from pymongo import MongoClient\n",
    "import pymongo\n",
    "import json\n",
    "import warnings\n",
    "warnings.filterwarnings('ignore')\n"
   ]
  },
  {
   "cell_type": "code",
   "execution_count": 5,
   "id": "65953ffe",
   "metadata": {},
   "outputs": [],
   "source": [
    "df=pd.read_csv(r'scripmaster-csv-format.csv')\n"
   ]
  },
  {
   "cell_type": "code",
   "execution_count": null,
   "id": "bbb53dd7",
   "metadata": {},
   "outputs": [],
   "source": []
  },
  {
   "cell_type": "code",
   "execution_count": 6,
   "id": "d43b50ee",
   "metadata": {},
   "outputs": [
    {
     "name": "stdout",
     "output_type": "stream",
     "text": [
      "                 Datetime    Open    High     Low   Close   Volume\n",
      "0     2021-05-25T09:15:00  415.20  415.20  413.20  413.95  1646734\n",
      "1     2021-05-25T09:16:00  414.10  414.65  413.95  414.40   875024\n",
      "2     2021-05-25T09:17:00  414.45  414.75  413.80  413.80   551491\n",
      "3     2021-05-25T09:18:00  413.65  414.00  413.40  413.95   367896\n",
      "4     2021-05-25T09:19:00  413.90  414.00  413.10  413.15   464096\n",
      "...                   ...     ...     ...     ...     ...      ...\n",
      "6386  2021-06-16T15:26:00  425.70  425.80  425.50  425.70    61724\n",
      "6387  2021-06-16T15:27:00  425.65  425.80  425.35  425.55    47505\n",
      "6388  2021-06-16T15:28:00  425.55  425.80  425.50  425.70    43052\n",
      "6389  2021-06-16T15:29:00  425.70  425.70  425.15  425.60    55102\n",
      "6390  2021-06-16T15:30:00  425.60  425.60  425.60  425.60      329\n",
      "\n",
      "[6391 rows x 6 columns]\n"
     ]
    }
   ],
   "source": [
    "historic_df=client.historical_data('N','C',3045,'1m','2021-05-25','2021-06-16')\n",
    "print(historic_df)"
   ]
  },
  {
   "cell_type": "code",
   "execution_count": 34,
   "id": "5de9091d",
   "metadata": {},
   "outputs": [
    {
     "name": "stdout",
     "output_type": "stream",
     "text": [
      "{'_id': ObjectId('631dd2a45c3d0a3e14837c22'), 'Unnamed: 0': 0, 'Datetime': '2020-01-01T00:00:00', 'Open': 334.7, 'High': 335.95, 'Low': 332.15, 'Close': 334.45, 'Volume': 17379320}\n"
     ]
    }
   ],
   "source": [
    "class hist_data:\n",
    "    #historic_df=pd.DataFrame()\n",
    "    def __init__(self,exch,exty,name,timef,year):\n",
    "        self.name=name\n",
    "        cashdf=df[(df.Exch==exch)& (df.ExchType==exty)]\n",
    "        cashdf['Name']=cashdf['Name'].str.strip()\n",
    "        scrip=cashdf[cashdf['Name']==name]['Scripcode'].iat[0]\n",
    "        historic_df1=client.historical_data(exch,exty,scrip,timef,f'{year}-01-01',f'{year}-06-30')\n",
    "        historic_df2=client.historical_data(exch,exty,scrip,timef,f'{year}-07-01',f'{year}-12-31')\n",
    "        #print(historic_df1)\n",
    "        self.historic_df=historic_df1.append(historic_df2,ignore_index = True)\n",
    "     \n",
    "    def hist_show(self):\n",
    "        print(self.historic_df)\n",
    "\n",
    "class hist_data_csv(hist_data):\n",
    "    \n",
    "    def data_to_csv(self):\n",
    "        self.historic_df.to_csv(f\"{self.name}_csv.csv\")\n",
    "    \n",
    "class import_mongo(hist_data_csv):\n",
    "    db_url='mongodb://localhost:27017'\n",
    "    db_name='data_base'\n",
    "    \n",
    "    def mongoimport(self):\n",
    "        #def mongoimport(self,db_name, coll_name, db_url):\n",
    "        self.data_to_csv()\n",
    "        self.csv_path=f\"{self.name}_csv.csv\"\n",
    "        self.coll_name=f\"{self.name}_coll\"\n",
    "        \n",
    "        client = MongoClient(self.db_url)\n",
    "        db = client[self.db_name]  \n",
    "        coll = db[self.coll_name]\n",
    "        data = pd.read_csv(self.csv_path)\n",
    "        df_=pd.DataFrame(data)\n",
    "        posts = df_.to_dict(orient=\"record\")\n",
    "        #print(posts)\n",
    "        coll.insert_many(posts)\n",
    "        coll.create_index([(\"_id\", pymongo.ASCENDING)])\n",
    "    \n",
    "    def insert_one(self,dict):\n",
    "        client = MongoClient(self.db_url)\n",
    "        db = client[self.db_name]  \n",
    "        self.coll = db[self.coll_name]\n",
    "        self.coll.insert_one(dict)\n",
    "        \n",
    "    def read(self,dict):\n",
    "        client = MongoClient(self.db_url)\n",
    "        db = client[self.db_name]  \n",
    "        self.coll = db[self.coll_name]\n",
    "        print(self.coll.find_one(dict))\n",
    "        \n",
    "    def update_one(self,dict1,data2):\n",
    "        client = MongoClient(self.db_url)\n",
    "        db = client[self.db_name]  \n",
    "        self.coll = db[self.coll_name]\n",
    "        self.coll.update_one(dict1,data2)\n",
    "    \n",
    "    def delete_one(self,dict):\n",
    "        client = MongoClient(self.db_url)\n",
    "        db = client[self.db_name]  \n",
    "        self.coll = db[self.coll_name]\n",
    "        self.coll.delete_one(dict)\n",
    "        \n",
    "        \n",
    "               \n",
    "#obj_SBIN=hist_data('N','C','SBIN','1d','2020')\n",
    "#obj_RELIANCE=hist_data('N','C','RELIANCE','1d','2020')\n",
    "#obj_TCS=hist_data('N','C','TCS','1d','2020')\n",
    "#obj_LT=hist_data('N','C','LT','1d','2020')\n",
    "#obj_IOC=hist_data('N','C','IOC','1d','2020')\n",
    "\n",
    "#obj_SBIN=hist_data_csv('N','C','SBIN','1d','2020')\n",
    "#obj_RELIANCE=hist_data_csv('N','C','RELIANCE','1d','2020')\n",
    "#obj_TCS=hist_data_csv('N','C','TCS','1d','2020')\n",
    "#obj_LT=hist_data_csv('N','C','LT','1d','2020')\n",
    "#obj_IOC=hist_data_csv('N','C','IOC','1d','2020')\n",
    "\n",
    "#obj_SBIN.data_to_csv()\n",
    "#obj_RELIANCE.data_to_csv()\n",
    "#obj_TCS.data_to_csv()\n",
    "#obj_LT.data_to_csv()\n",
    "#obj_IOC.data_to_csv()\n",
    "\n",
    "obj_SBIN=import_mongo('N','C','SBIN','1d','2020')\n",
    "obj_RELIANCE=import_mongo('N','C','RELIANCE','1d','2020')\n",
    "obj_TCS=import_mongo('N','C','TCS','1d','2020')\n",
    "obj_LT=import_mongo('N','C','LT','1d','2020')\n",
    "obj_IOC=import_mongo('N','C','IOC','1d','2020')\n",
    "\n",
    "obj_SBIN.mongoimport()\n",
    "di={\"Open\":334.7}\n",
    "obj_SBIN.read(di)\n",
    "\n",
    "#obj1.hist_show()\n",
    "\n",
    "    "
   ]
  },
  {
   "cell_type": "code",
   "execution_count": 58,
   "id": "5bbf5df2",
   "metadata": {},
   "outputs": [],
   "source": [
    "class live_data_to_mongo:\n",
    "    db_url='mongodb://localhost:27017'\n",
    "    db_name='live_data_base'\n",
    "    post={}\n",
    "    def __init__(self,exch,exty,name):\n",
    "        self.exch=exch\n",
    "        self.exty=exty\n",
    "        self.name=name\n",
    "        cashdf=df[(df.Exch==exch)& (df.ExchType==exty)]\n",
    "        cashdf['Name']=cashdf['Name'].str.strip()\n",
    "        self.scrip=cashdf[cashdf['Name']==name]['Scripcode'].iat[0]\n",
    "\n",
    "    def live_mongo(self):\n",
    "        req_list=[\n",
    "            { \"Exch\":self.exch,\"ExchType\":self.exty,\"ScripCode\":int(self.scrip)},\n",
    "            ]\n",
    "        req_data=client.Request_Feed('mf','s',req_list)\n",
    "        \n",
    "        def on_message(ws, message):\n",
    "            print(message)\n",
    "            t=message.strip(\"[\")\n",
    "            self.post=json.loads(t.strip(\"]\"))\n",
    "            coll.insert_one(self.post)\n",
    "            \n",
    "        self.coll_name=f\"{self.name}_coll\"    \n",
    "        client_mdb = MongoClient(self.db_url)\n",
    "        db = client_mdb[self.db_name]  \n",
    "        coll = db[self.coll_name]\n",
    "        client.connect(req_data)\n",
    "\n",
    "        client.receive_data(on_message)\n",
    "\n",
    "        \n",
    "        \n",
    "\n",
    "           #data = pd.read_csv(csv_path)\n",
    "           #df_=pd.DataFrame(data)\n",
    "            #posts = df_.to_dict(orient=\"record\")\n",
    "        #print(type(post))\n",
    "        \n",
    "        #coll.create_index([(\"_id\", pymongo.ASCENDING)])"
   ]
  },
  {
   "cell_type": "code",
   "execution_count": 60,
   "id": "d02f7f7c",
   "metadata": {},
   "outputs": [
    {
     "name": "stdout",
     "output_type": "stream",
     "text": [
      " 11:48:44 | Streaming Started\n",
      "[{\"Exch\":\"N\",\"ExchType\":\"C\",\"Token\":2885,\"LastRate\":2600.5,\"LastQty\":22,\"TotalQty\":1504933,\"High\":2602.4,\"Low\":2570.55,\"OpenRate\":2570.55,\"PClose\":2569.3,\"AvgRate\":2589.95,\"Time\":20923,\"BidQty\":42,\"BidRate\":2600.5,\"OffQty\":199,\"OffRate\":2600.95,\"TBidQ\":199036,\"TOffQ\":927781,\"TickDt\":\"\\/Date(1662963523000)\\/\",\"ChgPcnt\":1.21433854}]\n",
      "[{\"Exch\":\"N\",\"ExchType\":\"C\",\"Token\":2885,\"LastRate\":2600.95,\"LastQty\":83,\"TotalQty\":1505016,\"High\":2602.4,\"Low\":2570.55,\"OpenRate\":2570.55,\"PClose\":2569.3,\"AvgRate\":2589.95,\"Time\":20925,\"BidQty\":42,\"BidRate\":2600.5,\"OffQty\":116,\"OffRate\":2600.95,\"TBidQ\":199030,\"TOffQ\":927800,\"TickDt\":\"\\/Date(1662963525000)\\/\",\"ChgPcnt\":1.231853}]\n",
      "[{\"Exch\":\"N\",\"ExchType\":\"C\",\"Token\":2885,\"LastRate\":2600.9,\"LastQty\":1,\"TotalQty\":1505017,\"High\":2602.4,\"Low\":2570.55,\"OpenRate\":2570.55,\"PClose\":2569.3,\"AvgRate\":2589.95,\"Time\":20925,\"BidQty\":42,\"BidRate\":2600.5,\"OffQty\":383,\"OffRate\":2600.9,\"TBidQ\":198780,\"TOffQ\":928308,\"TickDt\":\"\\/Date(1662963525000)\\/\",\"ChgPcnt\":1.229907}]\n",
      "[{\"Exch\":\"N\",\"ExchType\":\"C\",\"Token\":2885,\"LastRate\":2600.5,\"LastQty\":50,\"TotalQty\":1505067,\"High\":2602.4,\"Low\":2570.55,\"OpenRate\":2570.55,\"PClose\":2569.3,\"AvgRate\":2589.95,\"Time\":20926,\"BidQty\":53,\"BidRate\":2600.5,\"OffQty\":72,\"OffRate\":2600.85,\"TBidQ\":199083,\"TOffQ\":928373,\"TickDt\":\"\\/Date(1662963526000)\\/\",\"ChgPcnt\":1.21433854}]\n",
      "[{\"Exch\":\"N\",\"ExchType\":\"C\",\"Token\":2885,\"LastRate\":2600.5,\"LastQty\":64,\"TotalQty\":1505131,\"High\":2602.4,\"Low\":2570.55,\"OpenRate\":2570.55,\"PClose\":2569.3,\"AvgRate\":2589.95,\"Time\":20927,\"BidQty\":13,\"BidRate\":2600.5,\"OffQty\":80,\"OffRate\":2600.65,\"TBidQ\":197898,\"TOffQ\":928373,\"TickDt\":\"\\/Date(1662963527000)\\/\",\"ChgPcnt\":1.21433854}]\n",
      "[{\"Exch\":\"N\",\"ExchType\":\"C\",\"Token\":2885,\"LastRate\":2600.5,\"LastQty\":30,\"TotalQty\":1505161,\"High\":2602.4,\"Low\":2570.55,\"OpenRate\":2570.55,\"PClose\":2569.3,\"AvgRate\":2589.95,\"Time\":20928,\"BidQty\":127,\"BidRate\":2600.1,\"OffQty\":535,\"OffRate\":2600.6,\"TBidQ\":198940,\"TOffQ\":929248,\"TickDt\":\"\\/Date(1662963528000)\\/\",\"ChgPcnt\":1.21433854}]\n",
      "[{\"Exch\":\"N\",\"ExchType\":\"C\",\"Token\":2885,\"LastRate\":2600.35,\"LastQty\":7316,\"TotalQty\":1512477,\"High\":2602.4,\"Low\":2570.55,\"OpenRate\":2570.55,\"PClose\":2569.3,\"AvgRate\":2590,\"Time\":20930,\"BidQty\":1337,\"BidRate\":2600,\"OffQty\":508,\"OffRate\":2600.3,\"TBidQ\":195962,\"TOffQ\":929756,\"TickDt\":\"\\/Date(1662963530000)\\/\",\"ChgPcnt\":1.20850039}]\n",
      "[{\"Exch\":\"N\",\"ExchType\":\"C\",\"Token\":2885,\"LastRate\":2600,\"LastQty\":29,\"TotalQty\":1512506,\"High\":2602.4,\"Low\":2570.55,\"OpenRate\":2570.55,\"PClose\":2569.3,\"AvgRate\":2590,\"Time\":20931,\"BidQty\":1331,\"BidRate\":2600,\"OffQty\":1431,\"OffRate\":2600.3,\"TBidQ\":196957,\"TOffQ\":930677,\"TickDt\":\"\\/Date(1662963531000)\\/\",\"ChgPcnt\":1.194878}]\n",
      "[{\"Exch\":\"N\",\"ExchType\":\"C\",\"Token\":2885,\"LastRate\":2600,\"LastQty\":1109,\"TotalQty\":1513615,\"High\":2602.4,\"Low\":2570.55,\"OpenRate\":2570.55,\"PClose\":2569.3,\"AvgRate\":2590.01,\"Time\":20932,\"BidQty\":1227,\"BidRate\":2600,\"OffQty\":352,\"OffRate\":2600.3,\"TBidQ\":195677,\"TOffQ\":928825,\"TickDt\":\"\\/Date(1662963532000)\\/\",\"ChgPcnt\":1.194878}]\n",
      "[{\"Exch\":\"N\",\"ExchType\":\"C\",\"Token\":2885,\"LastRate\":2600.3,\"LastQty\":59,\"TotalQty\":1513674,\"High\":2602.4,\"Low\":2570.55,\"OpenRate\":2570.55,\"PClose\":2569.3,\"AvgRate\":2590.01,\"Time\":20932,\"BidQty\":1292,\"BidRate\":2600,\"OffQty\":293,\"OffRate\":2600.3,\"TBidQ\":197473,\"TOffQ\":923781,\"TickDt\":\"\\/Date(1662963532000)\\/\",\"ChgPcnt\":1.20655429}]\n",
      "[{\"Exch\":\"N\",\"ExchType\":\"C\",\"Token\":2885,\"LastRate\":2600,\"LastQty\":19,\"TotalQty\":1513693,\"High\":2602.4,\"Low\":2570.55,\"OpenRate\":2570.55,\"PClose\":2569.3,\"AvgRate\":2590.01,\"Time\":20934,\"BidQty\":1311,\"BidRate\":2600,\"OffQty\":317,\"OffRate\":2600.3,\"TBidQ\":197665,\"TOffQ\":923397,\"TickDt\":\"\\/Date(1662963534000)\\/\",\"ChgPcnt\":1.194878}]\n",
      "[{\"Exch\":\"N\",\"ExchType\":\"C\",\"Token\":2885,\"LastRate\":2600.3,\"LastQty\":137,\"TotalQty\":1513830,\"High\":2602.4,\"Low\":2570.55,\"OpenRate\":2570.55,\"PClose\":2569.3,\"AvgRate\":2590.01,\"Time\":20935,\"BidQty\":1265,\"BidRate\":2600,\"OffQty\":239,\"OffRate\":2600.3,\"TBidQ\":197369,\"TOffQ\":923346,\"TickDt\":\"\\/Date(1662963535000)\\/\",\"ChgPcnt\":1.20655429}]\n",
      "[{\"Exch\":\"N\",\"ExchType\":\"C\",\"Token\":2885,\"LastRate\":2600,\"LastQty\":34,\"TotalQty\":1513864,\"High\":2602.4,\"Low\":2570.55,\"OpenRate\":2570.55,\"PClose\":2569.3,\"AvgRate\":2590.01,\"Time\":20936,\"BidQty\":1246,\"BidRate\":2600,\"OffQty\":224,\"OffRate\":2600.3,\"TBidQ\":197621,\"TOffQ\":923317,\"TickDt\":\"\\/Date(1662963536000)\\/\",\"ChgPcnt\":1.194878}]\n",
      "[{\"Exch\":\"N\",\"ExchType\":\"C\",\"Token\":2885,\"LastRate\":2600,\"LastQty\":10,\"TotalQty\":1513874,\"High\":2602.4,\"Low\":2570.55,\"OpenRate\":2570.55,\"PClose\":2569.3,\"AvgRate\":2590.01,\"Time\":20937,\"BidQty\":1240,\"BidRate\":2600,\"OffQty\":220,\"OffRate\":2600.3,\"TBidQ\":197339,\"TOffQ\":929433,\"TickDt\":\"\\/Date(1662963537000)\\/\",\"ChgPcnt\":1.194878}]\n",
      "[{\"Exch\":\"N\",\"ExchType\":\"C\",\"Token\":2885,\"LastRate\":2600.3,\"LastQty\":313,\"TotalQty\":1514187,\"High\":2602.4,\"Low\":2570.55,\"OpenRate\":2570.55,\"PClose\":2569.3,\"AvgRate\":2590.01,\"Time\":20938,\"BidQty\":1140,\"BidRate\":2600,\"OffQty\":157,\"OffRate\":2600.3,\"TBidQ\":197504,\"TOffQ\":929167,\"TickDt\":\"\\/Date(1662963538000)\\/\",\"ChgPcnt\":1.20655429}]\n",
      "[{\"Exch\":\"N\",\"ExchType\":\"C\",\"Token\":2885,\"LastRate\":2600.3,\"LastQty\":103,\"TotalQty\":1514290,\"High\":2602.4,\"Low\":2570.55,\"OpenRate\":2570.55,\"PClose\":2569.3,\"AvgRate\":2590.01,\"Time\":20940,\"BidQty\":1139,\"BidRate\":2600,\"OffQty\":129,\"OffRate\":2600.3,\"TBidQ\":197495,\"TOffQ\":929275,\"TickDt\":\"\\/Date(1662963540000)\\/\",\"ChgPcnt\":1.20655429}]\n",
      "[{\"Exch\":\"N\",\"ExchType\":\"C\",\"Token\":2885,\"LastRate\":2600.45,\"LastQty\":1144,\"TotalQty\":1515434,\"High\":2602.4,\"Low\":2570.55,\"OpenRate\":2570.55,\"PClose\":2569.3,\"AvgRate\":2590.02,\"Time\":20941,\"BidQty\":409,\"BidRate\":2600,\"OffQty\":38,\"OffRate\":2600.45,\"TBidQ\":196773,\"TOffQ\":928644,\"TickDt\":\"\\/Date(1662963541000)\\/\",\"ChgPcnt\":1.21239245}]\n",
      "[{\"Exch\":\"N\",\"ExchType\":\"C\",\"Token\":2885,\"LastRate\":2600,\"LastQty\":1124,\"TotalQty\":1516558,\"High\":2602.4,\"Low\":2570.55,\"OpenRate\":2570.55,\"PClose\":2569.3,\"AvgRate\":2590.03,\"Time\":20942,\"BidQty\":123,\"BidRate\":2600,\"OffQty\":50,\"OffRate\":2600.45,\"TBidQ\":196234,\"TOffQ\":928618,\"TickDt\":\"\\/Date(1662963542000)\\/\",\"ChgPcnt\":1.194878}]\n",
      "[{\"Exch\":\"N\",\"ExchType\":\"C\",\"Token\":2885,\"LastRate\":2600.5,\"LastQty\":51,\"TotalQty\":1516609,\"High\":2602.4,\"Low\":2570.55,\"OpenRate\":2570.55,\"PClose\":2569.3,\"AvgRate\":2590.03,\"Time\":20943,\"BidQty\":122,\"BidRate\":2600,\"OffQty\":73,\"OffRate\":2600.5,\"TBidQ\":196483,\"TOffQ\":928704,\"TickDt\":\"\\/Date(1662963543000)\\/\",\"ChgPcnt\":1.21433854}]\n",
      "[{\"Exch\":\"N\",\"ExchType\":\"C\",\"Token\":2885,\"LastRate\":2600.5,\"LastQty\":7,\"TotalQty\":1516616,\"High\":2602.4,\"Low\":2570.55,\"OpenRate\":2570.55,\"PClose\":2569.3,\"AvgRate\":2590.03,\"Time\":20945,\"BidQty\":1221,\"BidRate\":2600,\"OffQty\":67,\"OffRate\":2600.5,\"TBidQ\":196482,\"TOffQ\":928603,\"TickDt\":\"\\/Date(1662963545000)\\/\",\"ChgPcnt\":1.21433854}]\n",
      "[{\"Exch\":\"N\",\"ExchType\":\"C\",\"Token\":2885,\"LastRate\":2600.5,\"LastQty\":35,\"TotalQty\":1516651,\"High\":2602.4,\"Low\":2570.55,\"OpenRate\":2570.55,\"PClose\":2569.3,\"AvgRate\":2590.03,\"Time\":20946,\"BidQty\":57,\"BidRate\":2600.05,\"OffQty\":48,\"OffRate\":2600.5,\"TBidQ\":196718,\"TOffQ\":928623,\"TickDt\":\"\\/Date(1662963546000)\\/\",\"ChgPcnt\":1.21433854}]\n",
      "[{\"Exch\":\"N\",\"ExchType\":\"C\",\"Token\":2885,\"LastRate\":2600.5,\"LastQty\":23,\"TotalQty\":1516674,\"High\":2602.4,\"Low\":2570.55,\"OpenRate\":2570.55,\"PClose\":2569.3,\"AvgRate\":2590.03,\"Time\":20947,\"BidQty\":110,\"BidRate\":2600.05,\"OffQty\":25,\"OffRate\":2600.5,\"TBidQ\":196711,\"TOffQ\":928953,\"TickDt\":\"\\/Date(1662963547000)\\/\",\"ChgPcnt\":1.21433854}]\n",
      "[{\"Exch\":\"N\",\"ExchType\":\"C\",\"Token\":2885,\"LastRate\":2600.05,\"LastQty\":9,\"TotalQty\":1516683,\"High\":2602.4,\"Low\":2570.55,\"OpenRate\":2570.55,\"PClose\":2569.3,\"AvgRate\":2590.03,\"Time\":20947,\"BidQty\":101,\"BidRate\":2600.05,\"OffQty\":25,\"OffRate\":2600.5,\"TBidQ\":196482,\"TOffQ\":928965,\"TickDt\":\"\\/Date(1662963547000)\\/\",\"ChgPcnt\":1.19682407}]\n",
      "[{\"Exch\":\"N\",\"ExchType\":\"C\",\"Token\":2885,\"LastRate\":2600.05,\"LastQty\":25,\"TotalQty\":1516708,\"High\":2602.4,\"Low\":2570.55,\"OpenRate\":2570.55,\"PClose\":2569.3,\"AvgRate\":2590.03,\"Time\":20948,\"BidQty\":76,\"BidRate\":2600.05,\"OffQty\":25,\"OffRate\":2600.5,\"TBidQ\":196457,\"TOffQ\":928965,\"TickDt\":\"\\/Date(1662963548000)\\/\",\"ChgPcnt\":1.19682407}]\n",
      "[{\"Exch\":\"N\",\"ExchType\":\"C\",\"Token\":2885,\"LastRate\":2600,\"LastQty\":420,\"TotalQty\":1517128,\"High\":2602.4,\"Low\":2570.55,\"OpenRate\":2570.55,\"PClose\":2569.3,\"AvgRate\":2590.03,\"Time\":20949,\"BidQty\":1037,\"BidRate\":2600,\"OffQty\":290,\"OffRate\":2600.45,\"TBidQ\":196500,\"TOffQ\":929256,\"TickDt\":\"\\/Date(1662963549000)\\/\",\"ChgPcnt\":1.194878}]\n"
     ]
    },
    {
     "name": "stdout",
     "output_type": "stream",
     "text": [
      "[{\"Exch\":\"N\",\"ExchType\":\"C\",\"Token\":2885,\"LastRate\":2600.45,\"LastQty\":1481,\"TotalQty\":1518609,\"High\":2602.4,\"Low\":2570.55,\"OpenRate\":2570.55,\"PClose\":2569.3,\"AvgRate\":2590.04,\"Time\":20950,\"BidQty\":13,\"BidRate\":2600.05,\"OffQty\":100,\"OffRate\":2600.45,\"TBidQ\":196191,\"TOffQ\":928163,\"TickDt\":\"\\/Date(1662963550000)\\/\",\"ChgPcnt\":1.21239245}]\n",
      "[{\"Exch\":\"N\",\"ExchType\":\"C\",\"Token\":2885,\"LastRate\":2600.05,\"LastQty\":123,\"TotalQty\":1518732,\"High\":2602.4,\"Low\":2570.55,\"OpenRate\":2570.55,\"PClose\":2569.3,\"AvgRate\":2590.04,\"Time\":20951,\"BidQty\":112,\"BidRate\":2600.05,\"OffQty\":77,\"OffRate\":2600.45,\"TBidQ\":196545,\"TOffQ\":928158,\"TickDt\":\"\\/Date(1662963551000)\\/\",\"ChgPcnt\":1.19682407}]\n",
      "[{\"Exch\":\"N\",\"ExchType\":\"C\",\"Token\":2885,\"LastRate\":2600,\"LastQty\":560,\"TotalQty\":1519292,\"High\":2602.4,\"Low\":2570.55,\"OpenRate\":2570.55,\"PClose\":2569.3,\"AvgRate\":2590.05,\"Time\":20953,\"BidQty\":522,\"BidRate\":2600,\"OffQty\":77,\"OffRate\":2600.45,\"TBidQ\":195758,\"TOffQ\":928107,\"TickDt\":\"\\/Date(1662963553000)\\/\",\"ChgPcnt\":1.194878}]\n",
      "[{\"Exch\":\"N\",\"ExchType\":\"C\",\"Token\":2885,\"LastRate\":2600.45,\"LastQty\":87,\"TotalQty\":1519379,\"High\":2602.4,\"Low\":2570.55,\"OpenRate\":2570.55,\"PClose\":2569.3,\"AvgRate\":2590.05,\"Time\":20954,\"BidQty\":26,\"BidRate\":2600.1,\"OffQty\":11,\"OffRate\":2600.45,\"TBidQ\":193518,\"TOffQ\":929106,\"TickDt\":\"\\/Date(1662963554000)\\/\",\"ChgPcnt\":1.21239245}]\n"
     ]
    }
   ],
   "source": [
    "obj34=live_data_to_mongo('N','C','RELIANCE')\n",
    "obj34.live_mongo()"
   ]
  },
  {
   "cell_type": "code",
   "execution_count": null,
   "id": "7471615f",
   "metadata": {},
   "outputs": [],
   "source": []
  },
  {
   "cell_type": "code",
   "execution_count": null,
   "id": "8e87e723",
   "metadata": {},
   "outputs": [],
   "source": []
  }
 ],
 "metadata": {
  "kernelspec": {
   "display_name": "Python 3 (ipykernel)",
   "language": "python",
   "name": "python3"
  },
  "language_info": {
   "codemirror_mode": {
    "name": "ipython",
    "version": 3
   },
   "file_extension": ".py",
   "mimetype": "text/x-python",
   "name": "python",
   "nbconvert_exporter": "python",
   "pygments_lexer": "ipython3",
   "version": "3.9.12"
  }
 },
 "nbformat": 4,
 "nbformat_minor": 5
}
